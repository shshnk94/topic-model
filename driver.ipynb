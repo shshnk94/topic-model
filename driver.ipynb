{
 "cells": [
  {
   "cell_type": "code",
   "execution_count": 15,
   "metadata": {},
   "outputs": [
    {
     "name": "stdout",
     "output_type": "stream",
     "text": [
      "The tensorboard extension is already loaded. To reload it, use:\n",
      "  %reload_ext tensorboard\n"
     ]
    }
   ],
   "source": [
    "from dataclasses import dataclass\n",
    "import os \n",
    "\n",
    "%load_ext tensorboard"
   ]
  },
  {
   "cell_type": "code",
   "execution_count": 16,
   "metadata": {},
   "outputs": [],
   "source": [
    "@dataclass\n",
    "class Args:\n",
    "    model: str           #name of the model\n",
    "    mode: str            #mode of the call - train/eval/test\n",
    "    epochs: str          #number of training epochs\n",
    "    topics: str          #number of topics to be trained on\n",
    "    lr: str              #Learning rate\n",
    "    dataset: str         #name of corpus\n",
    "    ckpt_path: str  = '' #checkpoint path (if any)"
   ]
  },
  {
   "cell_type": "markdown",
   "metadata": {},
   "source": [
    "# ETM"
   ]
  },
  {
   "cell_type": "code",
   "execution_count": 21,
   "metadata": {},
   "outputs": [],
   "source": [
    "args = Args(model='etm', mode='train', epochs='25', topics='25', lr='0.005', dataset='20ng')"
   ]
  },
  {
   "cell_type": "markdown",
   "metadata": {},
   "source": [
    "## Train"
   ]
  },
  {
   "cell_type": "code",
   "execution_count": 22,
   "metadata": {},
   "outputs": [
    {
     "data": {
      "text/plain": [
       "0"
      ]
     },
     "execution_count": 22,
     "metadata": {},
     "output_type": "execute_result"
    }
   ],
   "source": [
    "data_path = 'data/' + args.model + '/' + args.dataset\n",
    "save_path = 'results/' + args.model + '/' + args.dataset\n",
    "\n",
    "train_embeddings = '1'\n",
    "\n",
    "os.system('python etm/main.py --mode ' + args.mode + \n",
    "          ' --dataset ' + args.dataset +\n",
    "          ' --data_path ' + data_path +\n",
    "          ' --save_path ' + save_path +\n",
    "          ' --num_topics ' + args.topics +\n",
    "          ' --train_embeddings ' + train_embeddings +\n",
    "          ' --epochs ' + args.epochs +\n",
    "          ' --lr ' + args.lr +\n",
    "          ' --tc ' + '1' + \n",
    "          ' --td ' + '1')"
   ]
  },
  {
   "cell_type": "markdown",
   "metadata": {},
   "source": [
    "## Test"
   ]
  },
  {
   "cell_type": "code",
   "execution_count": 23,
   "metadata": {},
   "outputs": [
    {
     "data": {
      "text/plain": [
       "0"
      ]
     },
     "execution_count": 23,
     "metadata": {},
     "output_type": "execute_result"
    }
   ],
   "source": [
    "args.ckpt_path = 'results/etm/20ng/etm_20ng_K_25_Htheta_800_Optim_adam_Clip_0.0_ThetaAct_relu_Lr_0.005_Bsz_1000_RhoSize_300_trainEmbeddings_1'\n",
    "args.mode = 'test'\n",
    "\n",
    "os.system('python ETM/main.py --mode ' + args.mode + \n",
    "          ' --dataset ' + args.dataset +\n",
    "          ' --data_path ' + data_path +\n",
    "          ' --save_path ' + save_path +\n",
    "          ' --num_topics ' + args.topics +\n",
    "          ' --train_embeddings ' + train_embeddings +\n",
    "          ' --lr ' + args.lr +\n",
    "          ' --tc ' + '1' + \n",
    "          ' --td ' + '1' +\n",
    "          ' --load_from ' + args.ckpt_path)"
   ]
  },
  {
   "cell_type": "markdown",
   "metadata": {},
   "source": [
    "## Visualize"
   ]
  },
  {
   "cell_type": "code",
   "execution_count": 19,
   "metadata": {
    "scrolled": false
   },
   "outputs": [
    {
     "data": {
      "text/html": [
       "\n",
       "      <iframe id=\"tensorboard-frame-7cfd048b2d82fb34\" width=\"100%\" height=\"800\" frameborder=\"0\">\n",
       "      </iframe>\n",
       "      <script>\n",
       "        (function() {\n",
       "          const frame = document.getElementById(\"tensorboard-frame-7cfd048b2d82fb34\");\n",
       "          const url = new URL(\"/\", window.location);\n",
       "          url.port = 6008;\n",
       "          frame.src = url;\n",
       "        })();\n",
       "      </script>\n",
       "  "
      ],
      "text/plain": [
       "<IPython.core.display.HTML object>"
      ]
     },
     "metadata": {},
     "output_type": "display_data"
    }
   ],
   "source": [
    "tb_logs = save_path + '/logs'\n",
    "%tensorboard --logdir $tb_logs"
   ]
  },
  {
   "cell_type": "markdown",
   "metadata": {},
   "source": [
    "# NVDM"
   ]
  },
  {
   "cell_type": "code",
   "execution_count": 46,
   "metadata": {},
   "outputs": [],
   "source": [
    "args = Args(model='nvdm', mode='train', epochs='25', topics='25', lr='5e-5', dataset='20ng')"
   ]
  },
  {
   "cell_type": "markdown",
   "metadata": {},
   "source": [
    "## Train"
   ]
  },
  {
   "cell_type": "code",
   "execution_count": 47,
   "metadata": {},
   "outputs": [
    {
     "data": {
      "text/plain": [
       "0"
      ]
     },
     "execution_count": 47,
     "metadata": {},
     "output_type": "execute_result"
    }
   ],
   "source": [
    "data_path = 'data/' + args.model + '/' + args.dataset\n",
    "save_path = 'results/' + args.model + '/' + args.dataset\n",
    "\n",
    "vocab_size = '5430' if args.dataset == '20ng' else '20881'\n",
    "    \n",
    "os.system('python nvdm/nvdm.py --data_dir ' + data_path +\n",
    "          ' --n_topic ' + args.topics +\n",
    "          ' --epochs ' + args.epochs +\n",
    "          ' --vocab_size ' + vocab_size +\n",
    "          ' --learning_rate ' + args.lr + \n",
    "          ' --save_path ' + save_path)"
   ]
  },
  {
   "cell_type": "markdown",
   "metadata": {},
   "source": [
    "## Test"
   ]
  },
  {
   "cell_type": "code",
   "execution_count": 48,
   "metadata": {},
   "outputs": [
    {
     "data": {
      "text/plain": [
       "0"
      ]
     },
     "execution_count": 48,
     "metadata": {},
     "output_type": "execute_result"
    }
   ],
   "source": [
    "test = 'True'\n",
    "\n",
    "os.system('python nvdm/nvdm.py --data_dir ' + data_path +\n",
    "          ' --test ' + test +\n",
    "          ' --n_topic ' + args.topics +\n",
    "          ' --epochs ' + args.epochs +\n",
    "          ' --vocab_size ' + vocab_size +\n",
    "          ' --learning_rate ' + args.lr +\n",
    "          ' --save_path ' + save_path)"
   ]
  },
  {
   "cell_type": "markdown",
   "metadata": {},
   "source": [
    "## Visualize"
   ]
  },
  {
   "cell_type": "code",
   "execution_count": null,
   "metadata": {},
   "outputs": [],
   "source": [
    "tb_logs = save_path + '/logs'\n",
    "%tensorboard --logdir $tb_logs"
   ]
  }
 ],
 "metadata": {
  "kernelspec": {
   "display_name": "junk",
   "language": "python",
   "name": "junk"
  },
  "language_info": {
   "codemirror_mode": {
    "name": "ipython",
    "version": 3
   },
   "file_extension": ".py",
   "mimetype": "text/x-python",
   "name": "python",
   "nbconvert_exporter": "python",
   "pygments_lexer": "ipython3",
   "version": "3.7.0"
  }
 },
 "nbformat": 4,
 "nbformat_minor": 2
}
